{
 "cells": [
  {
   "cell_type": "code",
   "execution_count": null,
   "metadata": {
    "collapsed": true
   },
   "outputs": [],
   "source": [
    "%matplotlib inline\n",
    "\n",
    "# importing pandas and numpy\n",
    "import pandas as pd\n",
    "import numpy as np\n",
    "\n",
    "import matplotlib.pyplot as plt\n",
    "import os"
   ]
  },
  {
   "cell_type": "code",
   "execution_count": null,
   "metadata": {},
   "outputs": [],
   "source": [
    "# TG\tEtmaalgemiddelde temperatuur (in 0.1 graden Celsius)\n",
    "# RH\tEtmaalsom van de neerslag (in 0.1 mm) (-1 voor <0.05 mm)\n",
    "# SP\tPercentage van de langst mogelijke zonneschijnduur\n",
    "# FG\tEtmaalgemiddelde windsnelheid (in 0.1 m/s)\n",
    "\n",
    "data = pd.read_csv(os.path.join('..', 'data', 'datasets', 'etmgeg_260.csv'), index_col='YYYYMMDD', parse_dates=['YYYYMMDD'])\n",
    "data.head()"
   ]
  },
  {
   "cell_type": "code",
   "execution_count": null,
   "metadata": {},
   "outputs": [],
   "source": [
    "_, ax = plt.subplots(figsize=(20, 10))\n",
    "weather.FG.plot(ax=ax)"
   ]
  },
  {
   "cell_type": "code",
   "execution_count": null,
   "metadata": {},
   "outputs": [],
   "source": [
    "# moving windows\n",
    "_, ax = plt.subplots(figsize=(20, 10))\n",
    "weather.FG.rolling(90).mean().plot(ax=ax)\n",
    "weather.FG.ewm(90).mean().plot(ax=ax)\n",
    "weather.FG.rolling(360).mean().plot(ax=ax)"
   ]
  },
  {
   "cell_type": "code",
   "execution_count": null,
   "metadata": {},
   "outputs": [],
   "source": [
    "# use seasonal features\n",
    "data['month'] = data.index.month # or data.column.dt.month\n",
    "data.groupby('month')['FG'].mean().plot(kind='bar')\n",
    "plt.show()\n",
    "\n",
    "# dayofweek\n",
    "data['dayofweek'] = data.index.dayofweek # or data.column.dt.month\n",
    "data.groupby('dayofweek')['TG'].mean().plot(kind='bar')\n",
    "plt.show()"
   ]
  }
 ],
 "metadata": {
  "kernelspec": {
   "display_name": "Python [conda env:aicaptain]",
   "language": "python",
   "name": "conda-env-aicaptain-py"
  },
  "language_info": {
   "codemirror_mode": {
    "name": "ipython",
    "version": 3
   },
   "file_extension": ".py",
   "mimetype": "text/x-python",
   "name": "python",
   "nbconvert_exporter": "python",
   "pygments_lexer": "ipython3",
   "version": "3.6.6"
  }
 },
 "nbformat": 4,
 "nbformat_minor": 2
}
