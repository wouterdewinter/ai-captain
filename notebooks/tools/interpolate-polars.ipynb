{
 "cells": [
  {
   "cell_type": "code",
   "execution_count": null,
   "metadata": {},
   "outputs": [],
   "source": [
    "%matplotlib inline\n",
    "\n",
    "import pandas as pd\n",
    "import numpy as np\n",
    "import matplotlib.pyplot as plt\n",
    "\n",
    "# update import path\n",
    "import os, sys\n",
    "sys.path.insert(1, os.path.join(os.getcwd(), '..', '..', 'src'))\n",
    "\n",
    "from polar import Polar"
   ]
  },
  {
   "cell_type": "code",
   "execution_count": null,
   "metadata": {},
   "outputs": [],
   "source": [
    "data = pd.read_csv('../../data/polars/first-27.csv', delimiter=';')\n",
    "data = data.rename(columns={'twa/tws': 'twa'})\n",
    "data = data.set_index('twa')\n",
    "data.columns = data.columns.astype('int')\n",
    "data[data == 0] = np.nan\n",
    "data.index=data.index.astype('int')\n",
    "data = data.groupby(data.index).first()\n",
    "data\n"
   ]
  },
  {
   "cell_type": "code",
   "execution_count": null,
   "metadata": {},
   "outputs": [],
   "source": [
    "def show(data):\n",
    "    _, ax = plt.subplots(figsize=(20, 10))\n",
    "    tws_list = [6,8,10,12,14,16,20]\n",
    "    for tws in tws_list:\n",
    "        data[tws].plot(ax=ax)\n",
    "    plt.show()\n",
    "\n",
    "show(data)"
   ]
  },
  {
   "cell_type": "code",
   "execution_count": null,
   "metadata": {},
   "outputs": [],
   "source": [
    "idx = np.arange(0, 181, 1)\n",
    "df = data.reindex(idx)\n",
    "df.iloc[0] = -1.5\n",
    "df.iloc[5] = -1\n",
    "df.iloc[10] = df.iloc[60] * 0.05\n",
    "df.iloc[180] = df.iloc[150] * 0.8\n",
    "df.interpolate(method='polynomial', order=2, inplace=True)\n",
    "show(df)\n",
    "#df"
   ]
  },
  {
   "cell_type": "code",
   "execution_count": null,
   "metadata": {},
   "outputs": [],
   "source": [
    "df.iloc[45].plot()"
   ]
  },
  {
   "cell_type": "code",
   "execution_count": null,
   "metadata": {},
   "outputs": [],
   "source": [
    "idx = np.arange(0, 26, 1)\n",
    "series = df.iloc[45]\n",
    "series[0] = 0\n",
    "series[25] = series[20] * 1.005\n",
    "series = series.reindex(idx).interpolate(method='polynomial', order=2)\n",
    "series.plot()"
   ]
  },
  {
   "cell_type": "code",
   "execution_count": null,
   "metadata": {},
   "outputs": [],
   "source": [
    "polar = Polar('../../data/polars/first-27.csv')\n",
    "polar.get_speed(0, 25)"
   ]
  }
 ],
 "metadata": {
  "kernelspec": {
   "display_name": "Python [conda env:aicaptain] *",
   "language": "python",
   "name": "conda-env-aicaptain-py"
  },
  "language_info": {
   "codemirror_mode": {
    "name": "ipython",
    "version": 3
   },
   "file_extension": ".py",
   "mimetype": "text/x-python",
   "name": "python",
   "nbconvert_exporter": "python",
   "pygments_lexer": "ipython3",
   "version": "3.6.8"
  }
 },
 "nbformat": 4,
 "nbformat_minor": 2
}
